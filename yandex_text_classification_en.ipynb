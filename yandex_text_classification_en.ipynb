{
 "cells": [
  {
   "cell_type": "markdown",
   "id": "76db59ba",
   "metadata": {},
   "source": [
    "# Classification of comments"
   ]
  },
  {
   "cell_type": "markdown",
   "id": "644b5191",
   "metadata": {},
   "source": [
    "The online store launches a new service. Now users can edit and supplement product descriptions like in wiki communities. That is, customers offer their edits and comment on others' changes. The store needs a tool that will search for toxic comments and send them for moderation."
   ]
  },
  {
   "cell_type": "markdown",
   "id": "62b1f679",
   "metadata": {},
   "source": [
    "Task:  \n",
    "To train the model to categorize comments into positive and negative comments"
   ]
  },
  {
   "cell_type": "markdown",
   "id": "42c4d025",
   "metadata": {},
   "source": [
    "Marked-up data on the toxicity of the edits are available for this purpose.  \n",
    "F1-score should be at least 0.75."
   ]
  },
  {
   "cell_type": "code",
   "execution_count": 1,
   "id": "c6ed4847",
   "metadata": {},
   "outputs": [],
   "source": [
    "import re\n",
    "import nltk\n",
    "import scipy\n",
    "import warnings\n",
    "import numpy as np\n",
    "import pandas as pd\n",
    "import seaborn as sb\n",
    "import matplotlib.pyplot as plt\n",
    "import lightgbm as lgb\n",
    "\n",
    "from tqdm import notebook\n",
    "from nltk import word_tokenize, pos_tag, TweetTokenizer\n",
    "from nltk.stem import WordNetLemmatizer\n",
    "from nltk.corpus import stopwords, wordnet\n",
    "from scipy.sparse import vstack\n",
    "from sklearn.exceptions import ConvergenceWarning\n",
    "from sklearn.feature_extraction.text import TfidfVectorizer \n",
    "\n",
    "from sklearn.utils import shuffle\n",
    "from sklearn.metrics import f1_score, confusion_matrix\n",
    "from sklearn.dummy import DummyClassifier\n",
    "from sklearn.linear_model import LogisticRegression\n",
    "from sklearn.tree import DecisionTreeClassifier\n",
    "from sklearn.ensemble import RandomForestClassifier\n",
    "from sklearn.model_selection import train_test_split, cross_val_score\n",
    "from sklearn.model_selection import GridSearchCV, PredefinedSplit"
   ]
  },
  {
   "cell_type": "code",
   "execution_count": 2,
   "id": "455d5677",
   "metadata": {},
   "outputs": [],
   "source": [
    "np.random.seed(57)"
   ]
  },
  {
   "cell_type": "markdown",
   "id": "33ab8d7b",
   "metadata": {},
   "source": [
    "## Data"
   ]
  },
  {
   "cell_type": "code",
   "execution_count": 3,
   "id": "eb8bbe17",
   "metadata": {},
   "outputs": [],
   "source": [
    "try:\n",
    "    data = pd.read_csv('toxic_comments.csv')\n",
    "except:\n",
    "    data = pd.read_csv('/datasets/toxic_comments.csv')"
   ]
  },
  {
   "cell_type": "code",
   "execution_count": 4,
   "id": "18bb0c27",
   "metadata": {},
   "outputs": [
    {
     "data": {
      "text/html": [
       "<div>\n",
       "<style scoped>\n",
       "    .dataframe tbody tr th:only-of-type {\n",
       "        vertical-align: middle;\n",
       "    }\n",
       "\n",
       "    .dataframe tbody tr th {\n",
       "        vertical-align: top;\n",
       "    }\n",
       "\n",
       "    .dataframe thead th {\n",
       "        text-align: right;\n",
       "    }\n",
       "</style>\n",
       "<table border=\"1\" class=\"dataframe\">\n",
       "  <thead>\n",
       "    <tr style=\"text-align: right;\">\n",
       "      <th></th>\n",
       "      <th>Unnamed: 0</th>\n",
       "      <th>text</th>\n",
       "      <th>toxic</th>\n",
       "    </tr>\n",
       "  </thead>\n",
       "  <tbody>\n",
       "    <tr>\n",
       "      <th>0</th>\n",
       "      <td>0</td>\n",
       "      <td>Explanation\\nWhy the edits made under my usern...</td>\n",
       "      <td>0</td>\n",
       "    </tr>\n",
       "    <tr>\n",
       "      <th>1</th>\n",
       "      <td>1</td>\n",
       "      <td>D'aww! He matches this background colour I'm s...</td>\n",
       "      <td>0</td>\n",
       "    </tr>\n",
       "    <tr>\n",
       "      <th>2</th>\n",
       "      <td>2</td>\n",
       "      <td>Hey man, I'm really not trying to edit war. It...</td>\n",
       "      <td>0</td>\n",
       "    </tr>\n",
       "    <tr>\n",
       "      <th>3</th>\n",
       "      <td>3</td>\n",
       "      <td>\"\\nMore\\nI can't make any real suggestions on ...</td>\n",
       "      <td>0</td>\n",
       "    </tr>\n",
       "    <tr>\n",
       "      <th>4</th>\n",
       "      <td>4</td>\n",
       "      <td>You, sir, are my hero. Any chance you remember...</td>\n",
       "      <td>0</td>\n",
       "    </tr>\n",
       "  </tbody>\n",
       "</table>\n",
       "</div>"
      ],
      "text/plain": [
       "   Unnamed: 0                                               text  toxic\n",
       "0           0  Explanation\\nWhy the edits made under my usern...      0\n",
       "1           1  D'aww! He matches this background colour I'm s...      0\n",
       "2           2  Hey man, I'm really not trying to edit war. It...      0\n",
       "3           3  \"\\nMore\\nI can't make any real suggestions on ...      0\n",
       "4           4  You, sir, are my hero. Any chance you remember...      0"
      ]
     },
     "execution_count": 4,
     "metadata": {},
     "output_type": "execute_result"
    }
   ],
   "source": [
    "data.head()"
   ]
  },
  {
   "cell_type": "code",
   "execution_count": 5,
   "id": "ee2cb834",
   "metadata": {},
   "outputs": [],
   "source": [
    "data.drop(data.columns[0], axis=1, inplace=True)"
   ]
  },
  {
   "cell_type": "code",
   "execution_count": 6,
   "id": "eaf68ca7",
   "metadata": {},
   "outputs": [
    {
     "data": {
      "text/plain": [
       "text     0\n",
       "toxic    0\n",
       "dtype: int64"
      ]
     },
     "execution_count": 6,
     "metadata": {},
     "output_type": "execute_result"
    }
   ],
   "source": [
    "data.isna().sum()"
   ]
  },
  {
   "cell_type": "code",
   "execution_count": 7,
   "id": "37ef02e1",
   "metadata": {},
   "outputs": [
    {
     "data": {
      "text/plain": [
       "0"
      ]
     },
     "execution_count": 7,
     "metadata": {},
     "output_type": "execute_result"
    }
   ],
   "source": [
    "data.duplicated().sum()"
   ]
  },
  {
   "cell_type": "code",
   "execution_count": 8,
   "id": "2cb07a00",
   "metadata": {
    "scrolled": true
   },
   "outputs": [
    {
     "data": {
      "text/html": [
       "<div>\n",
       "<style scoped>\n",
       "    .dataframe tbody tr th:only-of-type {\n",
       "        vertical-align: middle;\n",
       "    }\n",
       "\n",
       "    .dataframe tbody tr th {\n",
       "        vertical-align: top;\n",
       "    }\n",
       "\n",
       "    .dataframe thead th {\n",
       "        text-align: right;\n",
       "    }\n",
       "</style>\n",
       "<table border=\"1\" class=\"dataframe\">\n",
       "  <thead>\n",
       "    <tr style=\"text-align: right;\">\n",
       "      <th></th>\n",
       "      <th>text</th>\n",
       "      <th>toxic</th>\n",
       "    </tr>\n",
       "  </thead>\n",
       "  <tbody>\n",
       "    <tr>\n",
       "      <th>0</th>\n",
       "      <td>Explanation\\nWhy the edits made under my usern...</td>\n",
       "      <td>0</td>\n",
       "    </tr>\n",
       "    <tr>\n",
       "      <th>1</th>\n",
       "      <td>D'aww! He matches this background colour I'm s...</td>\n",
       "      <td>0</td>\n",
       "    </tr>\n",
       "    <tr>\n",
       "      <th>2</th>\n",
       "      <td>Hey man, I'm really not trying to edit war. It...</td>\n",
       "      <td>0</td>\n",
       "    </tr>\n",
       "    <tr>\n",
       "      <th>3</th>\n",
       "      <td>\"\\nMore\\nI can't make any real suggestions on ...</td>\n",
       "      <td>0</td>\n",
       "    </tr>\n",
       "    <tr>\n",
       "      <th>4</th>\n",
       "      <td>You, sir, are my hero. Any chance you remember...</td>\n",
       "      <td>0</td>\n",
       "    </tr>\n",
       "  </tbody>\n",
       "</table>\n",
       "</div>"
      ],
      "text/plain": [
       "                                                text  toxic\n",
       "0  Explanation\\nWhy the edits made under my usern...      0\n",
       "1  D'aww! He matches this background colour I'm s...      0\n",
       "2  Hey man, I'm really not trying to edit war. It...      0\n",
       "3  \"\\nMore\\nI can't make any real suggestions on ...      0\n",
       "4  You, sir, are my hero. Any chance you remember...      0"
      ]
     },
     "execution_count": 8,
     "metadata": {},
     "output_type": "execute_result"
    }
   ],
   "source": [
    "data.head()"
   ]
  },
  {
   "cell_type": "markdown",
   "id": "005b10b5",
   "metadata": {},
   "source": [
    "## Samples"
   ]
  },
  {
   "cell_type": "markdown",
   "id": "3258d208",
   "metadata": {},
   "source": [
    "I think 160,000 rows would take too long to process, so we should take a sample of 40000 rows."
   ]
  },
  {
   "cell_type": "code",
   "execution_count": 9,
   "id": "3f0dd2b3",
   "metadata": {
    "scrolled": true
   },
   "outputs": [
    {
     "data": {
      "image/png": "[encoded data removed]",
      "text/plain": [
       "<Figure size 640x480 with 1 Axes>"
      ]
     },
     "metadata": {},
     "output_type": "display_data"
    }
   ],
   "source": [
    "data['toxic'].value_counts().plot(kind='bar')\n",
    "plt.xticks(rotation=0)\n",
    "plt.show()"
   ]
  },
  {
   "cell_type": "markdown",
   "id": "9692f4e3",
   "metadata": {},
   "source": [
    "There is a serious class imbalance.  \n",
    "I think the test sample should be allocated now, so that we can experiment with the training sample later."
   ]
  },
  {
   "cell_type": "code",
   "execution_count": 10,
   "id": "480ed4aa",
   "metadata": {},
   "outputs": [
    {
     "name": "stdout",
     "output_type": "stream",
     "text": [
      "(10000, 2)\n",
      "(10000, 2)\n",
      "(139292, 2)\n"
     ]
    }
   ],
   "source": [
    "data_test, data_valid, data_train = np.split(shuffle(data), [10000, 20000])\n",
    "print(data_test.shape)\n",
    "print(data_valid.shape)\n",
    "print(data_train.shape)"
   ]
  },
  {
   "cell_type": "markdown",
   "id": "5d7e5df1",
   "metadata": {},
   "source": [
    "Let's try two training samples: a normal sample and one considering class imbalance."
   ]
  },
  {
   "cell_type": "code",
   "execution_count": 11,
   "id": "0ee74a64",
   "metadata": {},
   "outputs": [
    {
     "name": "stdout",
     "output_type": "stream",
     "text": [
      "<class 'pandas.core.frame.DataFrame'>\n",
      "Int64Index: 30000 entries, 154933 to 105885\n",
      "Data columns (total 2 columns):\n",
      " #   Column  Non-Null Count  Dtype \n",
      "---  ------  --------------  ----- \n",
      " 0   text    30000 non-null  object\n",
      " 1   toxic   30000 non-null  int64 \n",
      "dtypes: int64(1), object(1)\n",
      "memory usage: 703.1+ KB\n"
     ]
    }
   ],
   "source": [
    "sample_train = data_train.sample(30000)\n",
    "sample_train.info()"
   ]
  },
  {
   "cell_type": "code",
   "execution_count": 12,
   "id": "21259632",
   "metadata": {},
   "outputs": [
    {
     "name": "stdout",
     "output_type": "stream",
     "text": [
      "<class 'pandas.core.frame.DataFrame'>\n",
      "Int64Index: 30000 entries, 133857 to 71037\n",
      "Data columns (total 2 columns):\n",
      " #   Column  Non-Null Count  Dtype \n",
      "---  ------  --------------  ----- \n",
      " 0   text    30000 non-null  object\n",
      " 1   toxic   30000 non-null  int64 \n",
      "dtypes: int64(1), object(1)\n",
      "memory usage: 703.1+ KB\n"
     ]
    }
   ],
   "source": [
    "data_neg = data_train[data_train['toxic'] == 0]\n",
    "data_pos = data_train[data_train['toxic'] == 1]\n",
    "\n",
    "sample_train_balanced = pd.concat([data_neg.sample(20000), data_pos.sample(10000)])\n",
    "sample_train_balanced = shuffle(sample_train_balanced)\n",
    "\n",
    "sample_train_balanced.info()"
   ]
  },
  {
   "cell_type": "markdown",
   "id": "3cbe5006",
   "metadata": {},
   "source": [
    "The test sample will need to be transformed based on the training sample, so we'll make a copy."
   ]
  },
  {
   "cell_type": "code",
   "execution_count": 13,
   "id": "b0d9bae9",
   "metadata": {},
   "outputs": [],
   "source": [
    "samples = {}\n",
    "samples['train'] = {'raw': sample_train, 'balanced': sample_train_balanced}\n",
    "samples['valid'] = {'raw': data_valid, 'balanced': data_valid.copy()}\n",
    "samples['test'] = {'raw': data_test, 'balanced': data_test.copy()}"
   ]
  },
  {
   "cell_type": "markdown",
   "id": "0259136b",
   "metadata": {},
   "source": [
    "A dictionary to make code laconic."
   ]
  },
  {
   "cell_type": "code",
   "execution_count": 14,
   "id": "26eb95ff",
   "metadata": {
    "scrolled": true
   },
   "outputs": [
    {
     "data": {
      "text/plain": [
       "0    20000\n",
       "1    10000\n",
       "Name: toxic, dtype: int64"
      ]
     },
     "execution_count": 14,
     "metadata": {},
     "output_type": "execute_result"
    }
   ],
   "source": [
    "samples['train']['balanced']['toxic'].value_counts()"
   ]
  },
  {
   "cell_type": "markdown",
   "id": "be31db7c",
   "metadata": {},
   "source": [
    "## Text preprocessing"
   ]
  },
  {
   "cell_type": "code",
   "execution_count": 15,
   "id": "2c855a95",
   "metadata": {},
   "outputs": [
    {
     "data": {
      "text/html": [
       "<div>\n",
       "<style scoped>\n",
       "    .dataframe tbody tr th:only-of-type {\n",
       "        vertical-align: middle;\n",
       "    }\n",
       "\n",
       "    .dataframe tbody tr th {\n",
       "        vertical-align: top;\n",
       "    }\n",
       "\n",
       "    .dataframe thead th {\n",
       "        text-align: right;\n",
       "    }\n",
       "</style>\n",
       "<table border=\"1\" class=\"dataframe\">\n",
       "  <thead>\n",
       "    <tr style=\"text-align: right;\">\n",
       "      <th></th>\n",
       "      <th>text</th>\n",
       "      <th>toxic</th>\n",
       "    </tr>\n",
       "  </thead>\n",
       "  <tbody>\n",
       "    <tr>\n",
       "      <th>154933</th>\n",
       "      <td>\"\\nYou're welcome. I do try my best. tlk. cntr...</td>\n",
       "      <td>0</td>\n",
       "    </tr>\n",
       "    <tr>\n",
       "      <th>5075</th>\n",
       "      <td>\"\\nAt best, you could have deleted that portio...</td>\n",
       "      <td>0</td>\n",
       "    </tr>\n",
       "    <tr>\n",
       "      <th>82781</th>\n",
       "      <td>\"\\n\\nI agree that Raven has has a lot to do wi...</td>\n",
       "      <td>0</td>\n",
       "    </tr>\n",
       "    <tr>\n",
       "      <th>137923</th>\n",
       "      <td>Thank You\\nKindly have a look here .</td>\n",
       "      <td>0</td>\n",
       "    </tr>\n",
       "    <tr>\n",
       "      <th>21756</th>\n",
       "      <td>Will, whenever they 'saw him'  and whenever th...</td>\n",
       "      <td>0</td>\n",
       "    </tr>\n",
       "  </tbody>\n",
       "</table>\n",
       "</div>"
      ],
      "text/plain": [
       "                                                     text  toxic\n",
       "154933  \"\\nYou're welcome. I do try my best. tlk. cntr...      0\n",
       "5075    \"\\nAt best, you could have deleted that portio...      0\n",
       "82781   \"\\n\\nI agree that Raven has has a lot to do wi...      0\n",
       "137923               Thank You\\nKindly have a look here .      0\n",
       "21756   Will, whenever they 'saw him'  and whenever th...      0"
      ]
     },
     "execution_count": 15,
     "metadata": {},
     "output_type": "execute_result"
    }
   ],
   "source": [
    "samples['train']['raw'].head()"
   ]
  },
  {
   "cell_type": "markdown",
   "id": "7c158dd1",
   "metadata": {},
   "source": [
    "We need to keep only the letters and perform lemmatization."
   ]
  },
  {
   "cell_type": "markdown",
   "id": "15583800",
   "metadata": {},
   "source": [
    "### Symbols"
   ]
  },
  {
   "cell_type": "code",
   "execution_count": 16,
   "id": "f655387b",
   "metadata": {},
   "outputs": [],
   "source": [
    "for dataframe in samples['train'].values():\n",
    "    dataframe['clear'] = dataframe['text'].apply(\n",
    "        lambda text: ' '.join(re.sub(r'[^a-zA-Z ]', ' ', text).split()))\n",
    "\n",
    "for dataframe in samples['valid'].values():\n",
    "    dataframe['clear'] = dataframe['text'].apply(\n",
    "        lambda text: ' '.join(re.sub(r'[^a-zA-Z ]', ' ', text).split()))       \n",
    "    \n",
    "for dataframe in samples['test'].values():\n",
    "    dataframe['clear'] = dataframe['text'].apply(\n",
    "        lambda text: ' '.join(re.sub(r'[^a-zA-Z ]', ' ', text).split()))    "
   ]
  },
  {
   "cell_type": "code",
   "execution_count": 17,
   "id": "ea0950d6",
   "metadata": {
    "scrolled": true
   },
   "outputs": [
    {
     "data": {
      "text/html": [
       "<div>\n",
       "<style scoped>\n",
       "    .dataframe tbody tr th:only-of-type {\n",
       "        vertical-align: middle;\n",
       "    }\n",
       "\n",
       "    .dataframe tbody tr th {\n",
       "        vertical-align: top;\n",
       "    }\n",
       "\n",
       "    .dataframe thead th {\n",
       "        text-align: right;\n",
       "    }\n",
       "</style>\n",
       "<table border=\"1\" class=\"dataframe\">\n",
       "  <thead>\n",
       "    <tr style=\"text-align: right;\">\n",
       "      <th></th>\n",
       "      <th>text</th>\n",
       "      <th>toxic</th>\n",
       "      <th>clear</th>\n",
       "    </tr>\n",
       "  </thead>\n",
       "  <tbody>\n",
       "    <tr>\n",
       "      <th>154933</th>\n",
       "      <td>\"\\nYou're welcome. I do try my best. tlk. cntr...</td>\n",
       "      <td>0</td>\n",
       "      <td>You re welcome I do try my best tlk cntrb</td>\n",
       "    </tr>\n",
       "    <tr>\n",
       "      <th>5075</th>\n",
       "      <td>\"\\nAt best, you could have deleted that portio...</td>\n",
       "      <td>0</td>\n",
       "      <td>At best you could have deleted that portion of...</td>\n",
       "    </tr>\n",
       "    <tr>\n",
       "      <th>82781</th>\n",
       "      <td>\"\\n\\nI agree that Raven has has a lot to do wi...</td>\n",
       "      <td>0</td>\n",
       "      <td>I agree that Raven has has a lot to do with th...</td>\n",
       "    </tr>\n",
       "    <tr>\n",
       "      <th>137923</th>\n",
       "      <td>Thank You\\nKindly have a look here .</td>\n",
       "      <td>0</td>\n",
       "      <td>Thank You Kindly have a look here</td>\n",
       "    </tr>\n",
       "    <tr>\n",
       "      <th>21756</th>\n",
       "      <td>Will, whenever they 'saw him'  and whenever th...</td>\n",
       "      <td>0</td>\n",
       "      <td>Will whenever they saw him and whenever they w...</td>\n",
       "    </tr>\n",
       "  </tbody>\n",
       "</table>\n",
       "</div>"
      ],
      "text/plain": [
       "                                                     text  toxic  \\\n",
       "154933  \"\\nYou're welcome. I do try my best. tlk. cntr...      0   \n",
       "5075    \"\\nAt best, you could have deleted that portio...      0   \n",
       "82781   \"\\n\\nI agree that Raven has has a lot to do wi...      0   \n",
       "137923               Thank You\\nKindly have a look here .      0   \n",
       "21756   Will, whenever they 'saw him'  and whenever th...      0   \n",
       "\n",
       "                                                    clear  \n",
       "154933          You re welcome I do try my best tlk cntrb  \n",
       "5075    At best you could have deleted that portion of...  \n",
       "82781   I agree that Raven has has a lot to do with th...  \n",
       "137923                  Thank You Kindly have a look here  \n",
       "21756   Will whenever they saw him and whenever they w...  "
      ]
     },
     "execution_count": 17,
     "metadata": {},
     "output_type": "execute_result"
    }
   ],
   "source": [
    "samples['train']['raw'].head()"
   ]
  },
  {
   "cell_type": "markdown",
   "id": "8e2aba49",
   "metadata": {},
   "source": [
    "We got rid of the obstructing characters."
   ]
  },
  {
   "cell_type": "markdown",
   "id": "e4feeff4",
   "metadata": {},
   "source": [
    "### Lemmatization"
   ]
  },
  {
   "cell_type": "code",
   "execution_count": 18,
   "id": "b4918396",
   "metadata": {},
   "outputs": [
    {
     "name": "stderr",
     "output_type": "stream",
     "text": [
      "[nltk_data] Downloading package wordnet to /home/leonid/nltk_data...\n",
      "[nltk_data]   Package wordnet is already up-to-date!\n",
      "[nltk_data] Downloading package omw-1.4 to /home/leonid/nltk_data...\n",
      "[nltk_data]   Package omw-1.4 is already up-to-date!\n",
      "[nltk_data] Downloading package punkt to /home/leonid/nltk_data...\n",
      "[nltk_data]   Package punkt is already up-to-date!\n",
      "[nltk_data] Downloading package averaged_perceptron_tagger to\n",
      "[nltk_data]     /home/leonid/nltk_data...\n",
      "[nltk_data]   Package averaged_perceptron_tagger is already up-to-\n",
      "[nltk_data]       date!\n"
     ]
    },
    {
     "data": {
      "text/plain": [
       "True"
      ]
     },
     "execution_count": 18,
     "metadata": {},
     "output_type": "execute_result"
    }
   ],
   "source": [
    "lemm = WordNetLemmatizer()\n",
    "nltk.download('wordnet')\n",
    "nltk.download('omw-1.4')\n",
    "nltk.download('punkt')\n",
    "nltk.download('averaged_perceptron_tagger')"
   ]
  },
  {
   "cell_type": "code",
   "execution_count": 19,
   "id": "7ce2b36f",
   "metadata": {},
   "outputs": [],
   "source": [
    "for dataframe in samples['train'].values():\n",
    "    dataframe['lemm_text'] = dataframe['clear'].apply(\n",
    "    lambda text: ' '.join([lemm.lemmatize(word, pos=pos[0].lower()) \n",
    "                           if pos[0].lower() in wordnet._pos_names.values() \n",
    "                           else lemm.lemmatize(word) \n",
    "                           for word, pos in pos_tag(word_tokenize(text.lower()))]))\n",
    "\n",
    "for dataframe in samples['valid'].values():\n",
    "    dataframe['lemm_text'] = dataframe['clear'].apply(\n",
    "    lambda text: ' '.join([lemm.lemmatize(word, pos=pos[0].lower()) \n",
    "                           if pos[0].lower() in wordnet._pos_names.values() \n",
    "                           else lemm.lemmatize(word) \n",
    "                           for word, pos in pos_tag(word_tokenize(text.lower()))]))    \n",
    "    \n",
    "for dataframe in samples['test'].values():\n",
    "    dataframe['lemm_text'] = dataframe['clear'].apply(\n",
    "    lambda text: ' '.join([lemm.lemmatize(word, pos=pos[0].lower()) \n",
    "                           if pos[0].lower() in wordnet._pos_names.values() \n",
    "                           else lemm.lemmatize(word) \n",
    "                           for word, pos in pos_tag(word_tokenize(text.lower()))]))"
   ]
  },
  {
   "cell_type": "code",
   "execution_count": 20,
   "id": "a04bc5cc",
   "metadata": {
    "scrolled": true
   },
   "outputs": [
    {
     "data": {
      "text/html": [
       "<div>\n",
       "<style scoped>\n",
       "    .dataframe tbody tr th:only-of-type {\n",
       "        vertical-align: middle;\n",
       "    }\n",
       "\n",
       "    .dataframe tbody tr th {\n",
       "        vertical-align: top;\n",
       "    }\n",
       "\n",
       "    .dataframe thead th {\n",
       "        text-align: right;\n",
       "    }\n",
       "</style>\n",
       "<table border=\"1\" class=\"dataframe\">\n",
       "  <thead>\n",
       "    <tr style=\"text-align: right;\">\n",
       "      <th></th>\n",
       "      <th>text</th>\n",
       "      <th>toxic</th>\n",
       "      <th>clear</th>\n",
       "      <th>lemm_text</th>\n",
       "    </tr>\n",
       "  </thead>\n",
       "  <tbody>\n",
       "    <tr>\n",
       "      <th>154933</th>\n",
       "      <td>\"\\nYou're welcome. I do try my best. tlk. cntr...</td>\n",
       "      <td>0</td>\n",
       "      <td>You re welcome I do try my best tlk cntrb</td>\n",
       "      <td>you re welcome i do try my best tlk cntrb</td>\n",
       "    </tr>\n",
       "    <tr>\n",
       "      <th>5075</th>\n",
       "      <td>\"\\nAt best, you could have deleted that portio...</td>\n",
       "      <td>0</td>\n",
       "      <td>At best you could have deleted that portion of...</td>\n",
       "      <td>at best you could have delete that portion of ...</td>\n",
       "    </tr>\n",
       "    <tr>\n",
       "      <th>82781</th>\n",
       "      <td>\"\\n\\nI agree that Raven has has a lot to do wi...</td>\n",
       "      <td>0</td>\n",
       "      <td>I agree that Raven has has a lot to do with th...</td>\n",
       "      <td>i agree that raven have have a lot to do with ...</td>\n",
       "    </tr>\n",
       "    <tr>\n",
       "      <th>137923</th>\n",
       "      <td>Thank You\\nKindly have a look here .</td>\n",
       "      <td>0</td>\n",
       "      <td>Thank You Kindly have a look here</td>\n",
       "      <td>thank you kindly have a look here</td>\n",
       "    </tr>\n",
       "    <tr>\n",
       "      <th>21756</th>\n",
       "      <td>Will, whenever they 'saw him'  and whenever th...</td>\n",
       "      <td>0</td>\n",
       "      <td>Will whenever they saw him and whenever they w...</td>\n",
       "      <td>will whenever they saw him and whenever they b...</td>\n",
       "    </tr>\n",
       "  </tbody>\n",
       "</table>\n",
       "</div>"
      ],
      "text/plain": [
       "                                                     text  toxic  \\\n",
       "154933  \"\\nYou're welcome. I do try my best. tlk. cntr...      0   \n",
       "5075    \"\\nAt best, you could have deleted that portio...      0   \n",
       "82781   \"\\n\\nI agree that Raven has has a lot to do wi...      0   \n",
       "137923               Thank You\\nKindly have a look here .      0   \n",
       "21756   Will, whenever they 'saw him'  and whenever th...      0   \n",
       "\n",
       "                                                    clear  \\\n",
       "154933          You re welcome I do try my best tlk cntrb   \n",
       "5075    At best you could have deleted that portion of...   \n",
       "82781   I agree that Raven has has a lot to do with th...   \n",
       "137923                  Thank You Kindly have a look here   \n",
       "21756   Will whenever they saw him and whenever they w...   \n",
       "\n",
       "                                                lemm_text  \n",
       "154933          you re welcome i do try my best tlk cntrb  \n",
       "5075    at best you could have delete that portion of ...  \n",
       "82781   i agree that raven have have a lot to do with ...  \n",
       "137923                  thank you kindly have a look here  \n",
       "21756   will whenever they saw him and whenever they b...  "
      ]
     },
     "execution_count": 20,
     "metadata": {},
     "output_type": "execute_result"
    }
   ],
   "source": [
    "samples['train']['raw'].head()"
   ]
  },
  {
   "cell_type": "code",
   "execution_count": 21,
   "id": "2574b8aa",
   "metadata": {},
   "outputs": [],
   "source": [
    "corpus = {}\n",
    "target = {}\n",
    "\n",
    "corpus['raw'] = {'train': samples['train']['raw']['lemm_text'], \n",
    "                 'valid': samples['valid']['raw']['lemm_text'], \n",
    "                 'test': samples['test']['raw']['lemm_text']}\n",
    "corpus['balanced'] = {'train': samples['train']['balanced']['lemm_text'], \n",
    "                      'valid': samples['valid']['balanced']['lemm_text'], \n",
    "                      'test': samples['test']['balanced']['lemm_text']}\n",
    "\n",
    "target['raw'] = {'train': samples['train']['raw']['toxic'], \n",
    "                 'valid': samples['valid']['raw']['toxic'], \n",
    "                 'test': samples['test']['raw']['toxic']}\n",
    "target['balanced'] = {'train': samples['train']['balanced']['toxic'], \n",
    "                      'valid': samples['valid']['balanced']['toxic'], \n",
    "                      'test': samples['test']['balanced']['toxic']}"
   ]
  },
  {
   "cell_type": "code",
   "execution_count": 22,
   "id": "5bf48aa9",
   "metadata": {},
   "outputs": [
    {
     "data": {
      "text/plain": [
       "133857    oh i would like to ad that the reason for my b...\n",
       "124188    hear the voice in my head i swear to god it so...\n",
       "23378          you need to re read the purpose of wikipedia\n",
       "106745    please refrain from add nonsense to wikipedia ...\n",
       "64563     picture youy mother with her wrinkle up as in ...\n",
       "Name: lemm_text, dtype: object"
      ]
     },
     "execution_count": 22,
     "metadata": {},
     "output_type": "execute_result"
    }
   ],
   "source": [
    "corpus['balanced']['train'].head()"
   ]
  },
  {
   "cell_type": "code",
   "execution_count": 23,
   "id": "bb3dc38a",
   "metadata": {},
   "outputs": [
    {
     "data": {
      "text/plain": [
       "80902     0\n",
       "76700     1\n",
       "133696    0\n",
       "84672     0\n",
       "1064      0\n",
       "Name: toxic, dtype: int64"
      ]
     },
     "execution_count": 23,
     "metadata": {},
     "output_type": "execute_result"
    }
   ],
   "source": [
    "target['raw']['valid'].head()"
   ]
  },
  {
   "cell_type": "markdown",
   "id": "15ccaf86",
   "metadata": {},
   "source": [
    "### Word frequency"
   ]
  },
  {
   "cell_type": "markdown",
   "id": "eff84c67",
   "metadata": {},
   "source": [
    "Let's remove frequent uninformative words."
   ]
  },
  {
   "cell_type": "code",
   "execution_count": 24,
   "id": "a54a9bba",
   "metadata": {
    "scrolled": true
   },
   "outputs": [
    {
     "name": "stderr",
     "output_type": "stream",
     "text": [
      "[nltk_data] Downloading package stopwords to /home/leonid/nltk_data...\n",
      "[nltk_data]   Package stopwords is already up-to-date!\n"
     ]
    }
   ],
   "source": [
    "nltk.download('stopwords')\n",
    "stop_words = set(stopwords.words('english'))"
   ]
  },
  {
   "cell_type": "code",
   "execution_count": 25,
   "id": "4764e96a",
   "metadata": {},
   "outputs": [],
   "source": [
    "tf_idf = {}\n",
    "\n",
    "for approach in 'raw', 'balanced':\n",
    "    count_tf_idf = TfidfVectorizer(stop_words=stop_words) \n",
    "    count_tf_idf.fit(pd.concat([corpus[approach]['train'], corpus[approach]['valid']]))\n",
    "    \n",
    "    tf_idf[approach] = {'train': count_tf_idf.transform(corpus[approach]['train']), \n",
    "                        'valid': count_tf_idf.transform(corpus[approach]['valid']), \n",
    "                        'test': count_tf_idf.transform(corpus[approach]['test'])}"
   ]
  },
  {
   "cell_type": "code",
   "execution_count": 26,
   "id": "36641330",
   "metadata": {},
   "outputs": [
    {
     "name": "stdout",
     "output_type": "stream",
     "text": [
      "(30000, 67135)\n",
      "(10000, 67135)\n",
      "(10000, 67135)\n",
      "\n",
      "(30000, 65603)\n",
      "(10000, 65603)\n",
      "(10000, 65603)\n"
     ]
    }
   ],
   "source": [
    "print(tf_idf['raw']['train'].shape)\n",
    "print(tf_idf['raw']['valid'].shape)\n",
    "print(tf_idf['raw']['test'].shape)\n",
    "print()\n",
    "print(tf_idf['balanced']['train'].shape)\n",
    "print(tf_idf['balanced']['valid'].shape)\n",
    "print(tf_idf['balanced']['test'].shape)"
   ]
  },
  {
   "cell_type": "markdown",
   "id": "fe18c753",
   "metadata": {},
   "source": [
    "## Training"
   ]
  },
  {
   "cell_type": "markdown",
   "id": "655c9d04",
   "metadata": {},
   "source": [
    "Let's consider logistic regression, decision tree, random forest and LightGBM."
   ]
  },
  {
   "cell_type": "markdown",
   "id": "a8405690",
   "metadata": {},
   "source": [
    "### Logistic regression"
   ]
  },
  {
   "cell_type": "code",
   "execution_count": 27,
   "id": "d0e25082",
   "metadata": {},
   "outputs": [
    {
     "name": "stdout",
     "output_type": "stream",
     "text": [
      "{'class_weight': 'balanced', 'l1_ratio': 0.7}\n",
      "0.7201254626986577\n",
      "CPU times: user 1h 46min 15s, sys: 1.12 s, total: 1h 46min 16s\n",
      "Wall time: 1h 46min 19s\n"
     ]
    }
   ],
   "source": [
    "%%time\n",
    "warnings.filterwarnings('ignore', category=ConvergenceWarning)\n",
    "params_grid = {'l1_ratio': [0, 0.3, 0.7, 1], \n",
    "               'class_weight': [None, 'balanced']}\n",
    "\n",
    "model = GridSearchCV(estimator=LogisticRegression(solver='saga', \n",
    "                                                  penalty='elasticnet', \n",
    "                                                  max_iter=1000), \n",
    "                     param_grid=params_grid, \n",
    "                     scoring='f1')\n",
    "\n",
    "model.fit(vstack((tf_idf['raw']['train'], tf_idf['raw']['valid'])), \n",
    "          pd.concat([target['raw']['train'], target['raw']['valid']]))\n",
    "print(model.best_params_)\n",
    "print(model.best_score_)"
   ]
  },
  {
   "cell_type": "markdown",
   "id": "68680c78",
   "metadata": {},
   "source": [
    "{'class_weight': 'balanced', 'l1_ratio': 0.7}  \n",
    "0.7201254626986577  \n",
    "CPU times: user 1h 35min 50s, sys: 675 ms, total: 1h 35min 51s  \n",
    "Wall time: 1h 36min"
   ]
  },
  {
   "cell_type": "code",
   "execution_count": 28,
   "id": "23d067f3",
   "metadata": {
    "scrolled": true
   },
   "outputs": [
    {
     "name": "stdout",
     "output_type": "stream",
     "text": [
      "{'C': 1.0, 'class_weight': 'balanced', 'dual': False, 'fit_intercept': True, 'intercept_scaling': 1, 'l1_ratio': 1, 'max_iter': 1000, 'multi_class': 'auto', 'n_jobs': None, 'penalty': 'elasticnet', 'random_state': None, 'solver': 'saga', 'tol': 0.0001, 'verbose': 0, 'warm_start': False}\n",
      "F1-score: 0.7534246575342466\n",
      "CPU times: user 45.7 s, sys: 2 ms, total: 45.8 s\n",
      "Wall time: 45.7 s\n"
     ]
    }
   ],
   "source": [
    "%%time\n",
    "best_f1 = 0\n",
    "best_model = None\n",
    "for l1_ratio in [0, 0.3, 0.7, 1]:\n",
    "    for class_weight in [None, 'balanced']:\n",
    "        model = LogisticRegression(solver='saga', \n",
    "                                   l1_ratio=l1_ratio, \n",
    "                                   class_weight=class_weight, \n",
    "                                   penalty='elasticnet', \n",
    "                                   max_iter=1000)\n",
    "        model.fit(tf_idf['balanced']['train'], target['balanced']['train'])\n",
    "        predictions_valid = model.predict(tf_idf['balanced']['valid'])\n",
    "        current_f1 = f1_score(target['balanced']['valid'], predictions_valid)\n",
    "        if current_f1 > best_f1:\n",
    "            best_model = model\n",
    "            best_f1 = current_f1\n",
    "print(model.get_params())\n",
    "print('F1-score:', best_f1)"
   ]
  },
  {
   "cell_type": "markdown",
   "id": "e8254d76",
   "metadata": {},
   "source": [
    "### Decision Tree"
   ]
  },
  {
   "cell_type": "code",
   "execution_count": 29,
   "id": "a4cbe77f",
   "metadata": {},
   "outputs": [
    {
     "name": "stdout",
     "output_type": "stream",
     "text": [
      "{'class_weight': None, 'max_depth': 43}\n",
      "0.6860495486690436\n",
      "CPU times: user 5min 53s, sys: 1.32 s, total: 5min 54s\n",
      "Wall time: 5min 55s\n"
     ]
    }
   ],
   "source": [
    "%%time\n",
    "params_grid = {'max_depth': range(1, 50, 7), \n",
    "               'class_weight': [None, 'balanced']}\n",
    "\n",
    "model = GridSearchCV(estimator=DecisionTreeClassifier(random_state=57), \n",
    "                     param_grid=params_grid, \n",
    "                     scoring='f1')\n",
    "\n",
    "model.fit(vstack((tf_idf['raw']['train'], tf_idf['raw']['valid'])), \n",
    "          pd.concat([target['raw']['train'], target['raw']['valid']]))\n",
    "print(model.best_params_)\n",
    "print(model.best_score_)"
   ]
  },
  {
   "cell_type": "code",
   "execution_count": 30,
   "id": "63d82390",
   "metadata": {},
   "outputs": [
    {
     "name": "stdout",
     "output_type": "stream",
     "text": [
      "{'ccp_alpha': 0.0, 'class_weight': 'balanced', 'criterion': 'gini', 'max_depth': 43, 'max_features': None, 'max_leaf_nodes': None, 'min_impurity_decrease': 0.0, 'min_impurity_split': None, 'min_samples_leaf': 1, 'min_samples_split': 2, 'min_weight_fraction_leaf': 0.0, 'random_state': 57, 'splitter': 'best'}\n",
      "F1-score: 0.6796326310102648\n",
      "CPU times: user 1min 7s, sys: 29 ms, total: 1min 7s\n",
      "Wall time: 1min 7s\n"
     ]
    }
   ],
   "source": [
    "%%time\n",
    "best_f1 = 0\n",
    "best_model = None\n",
    "for max_depth in range(1, 50, 7):\n",
    "    for class_weight in [None, 'balanced']:\n",
    "        model = DecisionTreeClassifier(max_depth=max_depth, \n",
    "                                       class_weight=class_weight, \n",
    "                                       random_state=57)\n",
    "        model.fit(tf_idf['balanced']['train'], target['balanced']['train'])\n",
    "        predictions_valid = model.predict(tf_idf['balanced']['valid'])\n",
    "        current_f1 = f1_score(target['balanced']['valid'], predictions_valid)\n",
    "        if current_f1 > best_f1:\n",
    "            best_model = model\n",
    "            best_f1 = current_f1\n",
    "print(model.get_params())\n",
    "print('F1-score:', best_f1)"
   ]
  },
  {
   "cell_type": "markdown",
   "id": "7e88941d",
   "metadata": {},
   "source": [
    "### Random Forest"
   ]
  },
  {
   "cell_type": "code",
   "execution_count": 31,
   "id": "a64046de",
   "metadata": {},
   "outputs": [
    {
     "name": "stdout",
     "output_type": "stream",
     "text": [
      "{'max_depth': 21, 'n_estimators': 1}\n",
      "0.16948032682016934\n",
      "CPU times: user 14min 42s, sys: 1.17 s, total: 14min 43s\n",
      "Wall time: 14min 43s\n"
     ]
    }
   ],
   "source": [
    "%%time\n",
    "params_grid = {'max_depth': range(1, 22, 5), \n",
    "               'n_estimators': range(1, 302, 100)}\n",
    "\n",
    "model = GridSearchCV(estimator=RandomForestClassifier(random_state=57), \n",
    "                     param_grid=params_grid, \n",
    "                     scoring='f1')\n",
    "\n",
    "model.fit(vstack((tf_idf['raw']['train'], tf_idf['raw']['valid'])), \n",
    "          pd.concat([target['raw']['train'], target['raw']['valid']]))\n",
    "print(model.best_params_)\n",
    "print(model.best_score_)"
   ]
  },
  {
   "cell_type": "code",
   "execution_count": 32,
   "id": "138c4306",
   "metadata": {},
   "outputs": [
    {
     "name": "stdout",
     "output_type": "stream",
     "text": [
      "{'bootstrap': True, 'ccp_alpha': 0.0, 'class_weight': None, 'criterion': 'gini', 'max_depth': 21, 'max_features': 'auto', 'max_leaf_nodes': None, 'max_samples': None, 'min_impurity_decrease': 0.0, 'min_impurity_split': None, 'min_samples_leaf': 1, 'min_samples_split': 2, 'min_weight_fraction_leaf': 0.0, 'n_estimators': 301, 'n_jobs': None, 'oob_score': False, 'random_state': 57, 'verbose': 0, 'warm_start': False}\n",
      "F1-score: 0.16498054474708168\n",
      "CPU times: user 3min 1s, sys: 64 ms, total: 3min 1s\n",
      "Wall time: 3min 1s\n"
     ]
    }
   ],
   "source": [
    "%%time\n",
    "best_f1 = 0\n",
    "best_model = None\n",
    "for max_depth in range(1, 22, 5):\n",
    "    for n_estimators in range(1, 302, 100):\n",
    "        model = RandomForestClassifier(max_depth=max_depth, \n",
    "                                       n_estimators=n_estimators, \n",
    "                                       random_state=57)\n",
    "        model.fit(tf_idf['balanced']['train'], target['balanced']['train'])\n",
    "        predictions_valid = model.predict(tf_idf['balanced']['valid'])\n",
    "        current_f1 = f1_score(target['balanced']['valid'], predictions_valid)\n",
    "        if current_f1 > best_f1:\n",
    "            best_model = model\n",
    "            best_f1 = current_f1\n",
    "print(model.get_params())\n",
    "print('F1-score:', best_f1)"
   ]
  },
  {
   "cell_type": "markdown",
   "id": "ccce8e3b",
   "metadata": {},
   "source": [
    "Not really sure why it's worse than the decision tree. It's deep enough."
   ]
  },
  {
   "cell_type": "markdown",
   "id": "43ef2310",
   "metadata": {},
   "source": [
    "### LightGBM"
   ]
  },
  {
   "cell_type": "code",
   "execution_count": 33,
   "id": "6a40fa9f",
   "metadata": {},
   "outputs": [
    {
     "name": "stdout",
     "output_type": "stream",
     "text": [
      "{'colsample_bytree': 0.5, 'learning_rate': 0.2, 'n_estimators': 150}\n",
      "0.7332954922894052\n",
      "CPU times: user 6h 7min 33s, sys: 18min 12s, total: 6h 25min 46s\n",
      "Wall time: 51min 46s\n"
     ]
    }
   ],
   "source": [
    "%%time\n",
    "params_grid = {'learning_rate': [0.05, 0.1, 0.2], \n",
    "               'n_estimators': [50, 100, 150, 200], \n",
    "               'colsample_bytree': [0.5, 0.7, 1.0]}\n",
    "\n",
    "model = GridSearchCV(estimator=lgb.LGBMClassifier(objective='binary', \n",
    "                                                  random_state=57), \n",
    "                     param_grid=params_grid, \n",
    "                     scoring='f1')\n",
    "\n",
    "model.fit(vstack((tf_idf['raw']['train'], tf_idf['raw']['valid'])), \n",
    "          pd.concat([target['raw']['train'], target['raw']['valid']]))\n",
    "print(model.best_params_)\n",
    "print(model.best_score_)"
   ]
  },
  {
   "cell_type": "code",
   "execution_count": 34,
   "id": "8af6afa1",
   "metadata": {},
   "outputs": [
    {
     "name": "stdout",
     "output_type": "stream",
     "text": [
      "{'boosting_type': 'gbdt', 'class_weight': None, 'colsample_bytree': 1.0, 'importance_type': 'split', 'learning_rate': 0.2, 'max_depth': -1, 'min_child_samples': 20, 'min_child_weight': 0.001, 'min_split_gain': 0.0, 'n_estimators': 200, 'n_jobs': -1, 'num_leaves': 31, 'objective': 'binary', 'random_state': 57, 'reg_alpha': 0.0, 'reg_lambda': 0.0, 'silent': 'warn', 'subsample': 1.0, 'subsample_for_bin': 200000, 'subsample_freq': 0}\n",
      "F1-score: 0.7537840565085772\n",
      "CPU times: user 1h 6min 5s, sys: 3min 13s, total: 1h 9min 19s\n",
      "Wall time: 9min 13s\n"
     ]
    }
   ],
   "source": [
    "%%time\n",
    "best_f1 = 0\n",
    "best_model = None\n",
    "for learning_rate in [0.05, 0.1, 0.2]:\n",
    "    for n_estimators in [50, 100, 150, 200]:\n",
    "        for colsample_bytree in [0.5, 0.7, 1.0]:\n",
    "            model = lgb.LGBMClassifier(objective='binary', \n",
    "                                       learning_rate=learning_rate, \n",
    "                                       n_estimators=n_estimators, \n",
    "                                       colsample_bytree=colsample_bytree, \n",
    "                                       random_state=57)\n",
    "            model.fit(tf_idf['balanced']['train'], target['balanced']['train'])\n",
    "            predictions_valid = model.predict(tf_idf['balanced']['valid'])\n",
    "            current_f1 = f1_score(target['balanced']['valid'], predictions_valid)\n",
    "            if current_f1 > best_f1:\n",
    "                best_model = model\n",
    "                best_f1 = current_f1\n",
    "print(model.get_params())\n",
    "print('F1-score:', best_f1)"
   ]
  },
  {
   "cell_type": "markdown",
   "id": "ebaa605e",
   "metadata": {},
   "source": [
    "### Results"
   ]
  },
  {
   "cell_type": "markdown",
   "id": "5e174e27",
   "metadata": {},
   "source": [
    "||Original sample|Balanced sample|\n",
    "|-|-|-|\n",
    "|Logistic regression|0.720|0.753|\n",
    "|Decision tree|0.686|0.680|\n",
    "|Random forest|0.170|0.365|\n",
    "|LightGBM|0.733|**0.754**|"
   ]
  },
  {
   "cell_type": "markdown",
   "id": "7d43ff3b",
   "metadata": {},
   "source": [
    "Thus, testing LightGBM."
   ]
  },
  {
   "cell_type": "markdown",
   "id": "5a7236e3",
   "metadata": {},
   "source": [
    "## Sanity check"
   ]
  },
  {
   "cell_type": "code",
   "execution_count": 35,
   "id": "09ede9b8",
   "metadata": {
    "scrolled": true
   },
   "outputs": [
    {
     "data": {
      "text/plain": [
       "0.33482774522241765"
      ]
     },
     "execution_count": 35,
     "metadata": {},
     "output_type": "execute_result"
    }
   ],
   "source": [
    "cross_val_score(DummyClassifier(strategy='stratified'), \n",
    "                tf_idf['balanced']['train'], \n",
    "                target['balanced']['train'], scoring='f1').mean()"
   ]
  },
  {
   "cell_type": "markdown",
   "id": "98930c43",
   "metadata": {},
   "source": [
    "On the other hand, if it only hits zeros and logistic regression doesn't, the latter might make sense."
   ]
  },
  {
   "cell_type": "code",
   "execution_count": 36,
   "id": "b05767d9",
   "metadata": {},
   "outputs": [],
   "source": [
    "def plot_confusion_matrix(model, features_valid, target_valid):\n",
    "    predicted_valid = model.predict(features_valid)\n",
    "\n",
    "    print('Confusion matrix:')\n",
    "    print(confusion_matrix(target_valid, predicted_valid))\n",
    "    \n",
    "    fig, ax = plt.subplots()\n",
    "    fig = sb.heatmap(confusion_matrix(target_valid, predicted_valid, normalize='true'), \n",
    "                     annot=True)\n",
    "    plt.yticks(rotation=0)\n",
    "    ax.set_ylabel('Answers', rotation=0);\n",
    "    ax.set_xlabel('Predictions');\n",
    "    ax.yaxis.labelpad = 20\n",
    "    plt.show()"
   ]
  },
  {
   "cell_type": "code",
   "execution_count": 37,
   "id": "319e9ba6",
   "metadata": {},
   "outputs": [],
   "source": [
    "feautres_train, features_valid, target_train, target_valid = train_test_split(\n",
    "    tf_idf['raw']['train'], target['raw']['train'])"
   ]
  },
  {
   "cell_type": "code",
   "execution_count": 38,
   "id": "a35b7fbc",
   "metadata": {},
   "outputs": [
    {
     "name": "stdout",
     "output_type": "stream",
     "text": [
      "Confusion matrix:\n",
      "[[6101  664]\n",
      " [ 678   57]]\n"
     ]
    },
    {
     "data": {
      "image/png": "[encoded data removed]",
      "text/plain": [
       "<Figure size 640x480 with 2 Axes>"
      ]
     },
     "metadata": {},
     "output_type": "display_data"
    }
   ],
   "source": [
    "model = DummyClassifier(strategy='stratified')\n",
    "model.fit(features_valid, target_valid)\n",
    "plot_confusion_matrix(model, features_valid, target_valid)"
   ]
  },
  {
   "cell_type": "markdown",
   "id": "0f245c01",
   "metadata": {},
   "source": [
    "I'll compare results to this one."
   ]
  },
  {
   "cell_type": "markdown",
   "id": "0c070ac8",
   "metadata": {},
   "source": [
    "## Testing"
   ]
  },
  {
   "cell_type": "code",
   "execution_count": 39,
   "id": "74947a51",
   "metadata": {},
   "outputs": [
    {
     "name": "stdout",
     "output_type": "stream",
     "text": [
      "0.782033096926714\n",
      "Confusion matrix:\n",
      "[[8712  263]\n",
      " [ 198  827]]\n"
     ]
    },
    {
     "data": {
      "image/png": "[encoded data removed]",
      "text/plain": [
       "<Figure size 640x480 with 2 Axes>"
      ]
     },
     "metadata": {},
     "output_type": "display_data"
    }
   ],
   "source": [
    "model = lgb.LGBMClassifier(objective='binary', \n",
    "                           learning_rate=0.2, \n",
    "                           n_estimators=200, \n",
    "                           colsample_bytree=1.0, \n",
    "                           random_state=57)\n",
    "\n",
    "model.fit(vstack((tf_idf['balanced']['train'], tf_idf['balanced']['valid'])), \n",
    "          pd.concat([target['balanced']['train'], target['balanced']['valid']]))\n",
    "\n",
    "predictions = model.predict(tf_idf['balanced']['test'])\n",
    "print(f1_score(target['balanced']['test'], predictions))\n",
    "plot_confusion_matrix(model, tf_idf['balanced']['test'], target['balanced']['test'])"
   ]
  },
  {
   "cell_type": "markdown",
   "id": "b87206a4",
   "metadata": {},
   "source": [
    "Out of interest, let's also try a regression."
   ]
  },
  {
   "cell_type": "code",
   "execution_count": 40,
   "id": "902f649a",
   "metadata": {},
   "outputs": [
    {
     "name": "stdout",
     "output_type": "stream",
     "text": [
      "0.7357640311347808\n",
      "Confusion matrix:\n",
      "[[8457  518]\n",
      " [ 127  898]]\n"
     ]
    },
    {
     "data": {
      "image/png": "[encoded data removed]",
      "text/plain": [
       "<Figure size 640x480 with 2 Axes>"
      ]
     },
     "metadata": {},
     "output_type": "display_data"
    }
   ],
   "source": [
    "model = LogisticRegression(solver='saga', \n",
    "                           l1_ratio=1.0, \n",
    "                           class_weight='balanced', \n",
    "                           penalty='elasticnet', \n",
    "                           max_iter=1000)\n",
    "\n",
    "model.fit(vstack((tf_idf['balanced']['train'], tf_idf['balanced']['valid'])), \n",
    "          pd.concat([target['balanced']['train'], target['balanced']['valid']]))\n",
    "\n",
    "predictions = model.predict(tf_idf['balanced']['test'])\n",
    "print(f1_score(target['balanced']['test'], predictions))\n",
    "plot_confusion_matrix(model, tf_idf['balanced']['test'], target['balanced']['test'])"
   ]
  },
  {
   "cell_type": "markdown",
   "id": "2b514c77",
   "metadata": {},
   "source": [
    "F1-score is worse, although recall is higher than in the boosting case."
   ]
  },
  {
   "cell_type": "markdown",
   "id": "a7e09ae4",
   "metadata": {},
   "source": [
    "## Conclusions"
   ]
  },
  {
   "cell_type": "markdown",
   "id": "8e178888",
   "metadata": {},
   "source": [
    "1. The data represent 160,000 English-language comments.\n",
    "2. There is an imbalance of classes in the data (10% labeled as toxic).\n",
    "3. A sample of 50000 comments was taken for training and testing.\n",
    "4. Before training, lemmatization was performed with WordNetLemmatizer() function.\n",
    "5. Logistic regression, decision tree, random forest and LightGBM were taken for training.\n",
    "6. The LightGBM model trained on upsampled sample showed the best F1-score.\n",
    "7. In testing, this model showed F1-score equal to 0.782."
   ]
  },
  {
   "cell_type": "code",
   "execution_count": null,
   "id": "2bd0257c-b9ce-46a0-aee7-82d9ddf42809",
   "metadata": {},
   "outputs": [],
   "source": []
  }
 ],
 "metadata": {
  "kernelspec": {
   "display_name": "Python 3 (ipykernel)",
   "language": "python",
   "name": "python3"
  },
  "language_info": {
   "codemirror_mode": {
    "name": "ipython",
    "version": 3
   },
   "file_extension": ".py",
   "mimetype": "text/x-python",
   "name": "python",
   "nbconvert_exporter": "python",
   "pygments_lexer": "ipython3",
   "version": "3.9.7"
  },
  "toc": {
   "base_numbering": 1,
   "nav_menu": {},
   "number_sections": true,
   "sideBar": false,
   "skip_h1_title": true,
   "title_cell": "Table of Contents",
   "title_sidebar": "Contents",
   "toc_cell": true,
   "toc_position": {
    "height": "764px",
    "left": "10px",
    "top": "150px",
    "width": "266.594px"
   },
   "toc_section_display": true,
   "toc_window_display": true
  }
 },
 "nbformat": 4,
 "nbformat_minor": 5
}
